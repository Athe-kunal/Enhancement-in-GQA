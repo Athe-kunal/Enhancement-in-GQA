{
 "cells": [
  {
   "cell_type": "code",
   "execution_count": 1,
   "metadata": {},
   "outputs": [],
   "source": [
    "from transformers import AutoTokenizer\n",
    "from transformers import T5ForConditionalGeneration\n",
    "\n",
    "model = \"t5-small\"\n",
    "t5: T5ForConditionalGeneration = T5ForConditionalGeneration.from_pretrained(\n",
    "        model\n",
    "    )\n",
    "\n",
    "tokenizer =  AutoTokenizer.from_pretrained(model)"
   ]
  },
  {
   "cell_type": "code",
   "execution_count": 56,
   "metadata": {},
   "outputs": [],
   "source": [
    "from transformers import T5ForConditionalGeneration\n",
    "from transformers.models.t5.modeling_t5 import T5Attention, T5Config, T5Block\n",
    "from copy import deepcopy\n",
    "from typing import List\n",
    "from collections import defaultdict\n",
    "t5: T5ForConditionalGeneration = T5ForConditionalGeneration.from_pretrained(\n",
    "        \"t5-small\"\n",
    "    )\n",
    "\n",
    "def get_tf_attention_dict(module,kv_heads:int=4):\n",
    "    transfer_to_gqa: List[str] = [\"encoder\",\"decoder\",\"EncDecAttention\"]\n",
    "    tf_attention_dict = defaultdict(list)\n",
    "    def convert_t5_to_gqa(module, kv_heads: int,similarity_flag:bool=False,inplace: bool = False,curr_name:str=''):\n",
    "        \"\"\"Get the list of attention modules based on the flag about encoder, decoder or cross-attention\n",
    "\n",
    "        Args:\n",
    "            module: Transformer module/unit\n",
    "            kv_heads (int): Number of key-value heads\n",
    "            similarity_flag (bool, optional): Similarity GQA flag. Defaults to False.\n",
    "            inplace (bool, optional): inplace replace the model with GQA. Defaults to False.\n",
    "\n",
    "        Returns:\n",
    "            _type_: _description_\n",
    "        \"\"\"\n",
    "        if isinstance(module, T5Attention) and similarity_flag:\n",
    "            tf_attention_dict[curr_name].append(module)\n",
    "\n",
    "        out = module if inplace else deepcopy(module)\n",
    "        for name, child in out.named_children():\n",
    "            if name in transfer_to_gqa:\n",
    "                curr_name = name\n",
    "                similarity_flag = True\n",
    "            out._modules[name] = convert_t5_to_gqa(child, kv_heads=kv_heads,similarity_flag=similarity_flag, inplace=True,curr_name=curr_name)\n",
    "        return out\n",
    "\n",
    "    convert_t5_to_gqa(module,kv_heads=kv_heads)\n",
    "    return tf_attention_dict"
   ]
  },
  {
   "cell_type": "code",
   "execution_count": 57,
   "metadata": {},
   "outputs": [],
   "source": [
    "tf_attention_dict = get_tf_attention_dict(t5)"
   ]
  },
  {
   "cell_type": "code",
   "execution_count": 58,
   "metadata": {},
   "outputs": [
    {
     "name": "stdout",
     "output_type": "stream",
     "text": [
      "6\n",
      "6\n",
      "6\n"
     ]
    }
   ],
   "source": [
    "print(len(tf_attention_dict['encoder']))\n",
    "print(len(tf_attention_dict['decoder']))\n",
    "print(len(tf_attention_dict['EncDecAttention']))"
   ]
  },
  {
   "cell_type": "code",
   "execution_count": 99,
   "metadata": {},
   "outputs": [],
   "source": [
    "import torch\n",
    "import torch.nn.functional as F\n",
    "\n",
    "def get_sim_score(query_heads_attn):\n",
    "    query_heads = torch.tensor_split(query_heads_attn,8,dim=1)\n",
    "    sim_keys = ['kv_heads_'+str(i) for i in range(0,len(query_heads)//2)]\n",
    "    sim_keys_dict = {key: 0.0 for key in sim_keys}\n",
    "    for i in range(0,len(query_heads)-1,2):\n",
    "        vec1 = query_heads[i]\n",
    "        vec2 = query_heads[i+1]\n",
    "        # Flatten the vectors\n",
    "        vec1_flat = vec1.reshape(-1).unsqueeze(0)\n",
    "        vec2_flat = vec2.reshape(-1).unsqueeze(0)\n",
    "        # print(vec1_flat.shape)\n",
    "\n",
    "        # Calculate cosine similarity using PyTorch's F.cosine_similarity\n",
    "        cosine_sim = F.cosine_similarity(vec1_flat, vec2_flat).item()\n",
    "        if i==0: dict_name='0'\n",
    "        elif i==2: dict_name='1'\n",
    "        elif i==4:dict_name='2'\n",
    "        elif i==6:dict_name='3'\n",
    "\n",
    "        sim_keys_dict[f'kv_heads_{dict_name}']=cosine_sim\n",
    "    return sim_keys_dict  "
   ]
  },
  {
   "cell_type": "code",
   "execution_count": 100,
   "metadata": {},
   "outputs": [],
   "source": [
    "gqa_list = ['encoder','decoder','EncDecAttention']\n",
    "all_similarities_dict = defaultdict(list)\n",
    "\n",
    "for attn_name in gqa_list:\n",
    "    #attn_name is encoder, decoder or cross-attention\n",
    "    for attn_layer in tf_attention_dict[attn_name]:\n",
    "        all_similarities_dict[attn_name].append(get_sim_score(attn_layer.q.weight.data))"
   ]
  },
  {
   "cell_type": "code",
   "execution_count": 101,
   "metadata": {},
   "outputs": [
    {
     "data": {
      "text/plain": [
       "6"
      ]
     },
     "execution_count": 101,
     "metadata": {},
     "output_type": "execute_result"
    }
   ],
   "source": [
    "len(all_similarities_dict['EncDecAttention'])"
   ]
  },
  {
   "cell_type": "code",
   "execution_count": 102,
   "metadata": {},
   "outputs": [
    {
     "data": {
      "text/plain": [
       "[{'kv_heads_0': -0.010918185114860535,\n",
       "  'kv_heads_1': -0.004840036388486624,\n",
       "  'kv_heads_2': -0.005395564716309309,\n",
       "  'kv_heads_3': -0.0026491396129131317},\n",
       " {'kv_heads_0': -0.011216226033866405,\n",
       "  'kv_heads_1': 0.00581673439592123,\n",
       "  'kv_heads_2': -0.01931021735072136,\n",
       "  'kv_heads_3': 0.007922064512968063},\n",
       " {'kv_heads_0': -0.006330240052193403,\n",
       "  'kv_heads_1': 0.0016594035550951958,\n",
       "  'kv_heads_2': -0.019430657848715782,\n",
       "  'kv_heads_3': 0.005108625628054142},\n",
       " {'kv_heads_0': 0.0021046928595751524,\n",
       "  'kv_heads_1': -0.0033791805617511272,\n",
       "  'kv_heads_2': -0.02781629003584385,\n",
       "  'kv_heads_3': -0.005175184458494186},\n",
       " {'kv_heads_0': 0.004793539643287659,\n",
       "  'kv_heads_1': 0.0007678803522139788,\n",
       "  'kv_heads_2': -0.028359295800328255,\n",
       "  'kv_heads_3': 0.0018283866811543703},\n",
       " {'kv_heads_0': -0.005887109786272049,\n",
       "  'kv_heads_1': -0.0032151229679584503,\n",
       "  'kv_heads_2': -0.026719655841588974,\n",
       "  'kv_heads_3': 0.0016886579105630517}]"
      ]
     },
     "execution_count": 102,
     "metadata": {},
     "output_type": "execute_result"
    }
   ],
   "source": [
    "all_similarities_dict['encoder']"
   ]
  },
  {
   "cell_type": "code",
   "execution_count": 87,
   "metadata": {},
   "outputs": [
    {
     "data": {
      "text/plain": [
       "dict_keys(['encoder', 'decoder', 'EncDecAttention'])"
      ]
     },
     "execution_count": 87,
     "metadata": {},
     "output_type": "execute_result"
    }
   ],
   "source": [
    "#Encoder\n",
    "key_vals = all_similarities_dict.keys()\n",
    "\n",
    "for kv in key_vals:\n",
    "    curr_q_sims = all_similarities_dict[kv]\n",
    "    "
   ]
  },
  {
   "cell_type": "code",
   "execution_count": null,
   "metadata": {},
   "outputs": [],
   "source": []
  },
  {
   "cell_type": "code",
   "execution_count": 47,
   "metadata": {},
   "outputs": [],
   "source": [
    "def tokenize_function_X(data):\n",
    "    return tokenizer(data[\"article\"],truncation=True)\n",
    "def tokenize_function_Y(data):\n",
    "    return tokenizer(data[\"highlights\"],truncation=True)"
   ]
  },
  {
   "cell_type": "code",
   "execution_count": 48,
   "metadata": {},
   "outputs": [],
   "source": [
    "from datasets import load_dataset\n",
    "\n",
    "data_dir = \"data\"\n",
    "# data_files = {\"train\":\"train.csv\",\"validation\":\"val.csv\",\"test\":\"test.csv\"}\n",
    "cnn_data = load_dataset(\"cnn_dailymail\",data_dir=data_dir)"
   ]
  },
  {
   "cell_type": "code",
   "execution_count": 49,
   "metadata": {},
   "outputs": [
    {
     "data": {
      "application/vnd.jupyter.widget-view+json": {
       "model_id": "f34f0ccefcd74186a5a0b9a5b5624917",
       "version_major": 2,
       "version_minor": 0
      },
      "text/plain": [
       "Map:   0%|          | 0/287113 [00:00<?, ? examples/s]"
      ]
     },
     "metadata": {},
     "output_type": "display_data"
    },
    {
     "data": {
      "application/vnd.jupyter.widget-view+json": {
       "model_id": "c0b01eb1a58d43f0924681e3b94fb4d4",
       "version_major": 2,
       "version_minor": 0
      },
      "text/plain": [
       "Map:   0%|          | 0/13368 [00:00<?, ? examples/s]"
      ]
     },
     "metadata": {},
     "output_type": "display_data"
    },
    {
     "data": {
      "application/vnd.jupyter.widget-view+json": {
       "model_id": "e6a010a99f2540faa8403cab308daee9",
       "version_major": 2,
       "version_minor": 0
      },
      "text/plain": [
       "Map:   0%|          | 0/11490 [00:00<?, ? examples/s]"
      ]
     },
     "metadata": {},
     "output_type": "display_data"
    },
    {
     "data": {
      "application/vnd.jupyter.widget-view+json": {
       "model_id": "1a4793f9c55347cf84efe9d998ef9eaa",
       "version_major": 2,
       "version_minor": 0
      },
      "text/plain": [
       "Map:   0%|          | 0/287113 [00:00<?, ? examples/s]"
      ]
     },
     "metadata": {},
     "output_type": "display_data"
    },
    {
     "data": {
      "application/vnd.jupyter.widget-view+json": {
       "model_id": "b9e3fc9dbde04de3b1cba0a914fb458b",
       "version_major": 2,
       "version_minor": 0
      },
      "text/plain": [
       "Map:   0%|          | 0/13368 [00:00<?, ? examples/s]"
      ]
     },
     "metadata": {},
     "output_type": "display_data"
    },
    {
     "data": {
      "application/vnd.jupyter.widget-view+json": {
       "model_id": "1adbc58e8b5f4ac7b040848b096de5ca",
       "version_major": 2,
       "version_minor": 0
      },
      "text/plain": [
       "Map:   0%|          | 0/11490 [00:00<?, ? examples/s]"
      ]
     },
     "metadata": {},
     "output_type": "display_data"
    }
   ],
   "source": [
    "X = cnn_data.map(tokenize_function_X,batched=True,batch_size=10000,remove_columns=['article','highlights','id'])\n",
    "y = cnn_data.map(tokenize_function_Y,batched=True,batch_size=10000,remove_columns=['article','highlights','id'])"
   ]
  },
  {
   "cell_type": "code",
   "execution_count": null,
   "metadata": {},
   "outputs": [
    {
     "data": {
      "text/plain": [
       "{'train': ['input_ids', 'attention_mask'],\n",
       " 'validation': ['input_ids', 'attention_mask'],\n",
       " 'test': ['input_ids', 'attention_mask']}"
      ]
     },
     "execution_count": 5,
     "metadata": {},
     "output_type": "execute_result"
    }
   ],
   "source": [
    "X.column_names"
   ]
  },
  {
   "cell_type": "code",
   "execution_count": 50,
   "metadata": {},
   "outputs": [],
   "source": [
    "from torch.utils.data import DataLoader\n",
    "from transformers import DataCollatorWithPadding\n",
    "\n",
    "data_collator = DataCollatorWithPadding(tokenizer=tokenizer)\n",
    "\n",
    "train_dataloader = DataLoader(\n",
    "    X[\"train\"], shuffle=True, batch_size=4, collate_fn=data_collator\n",
    ")\n",
    "eval_dataloader = DataLoader(\n",
    "    y[\"validation\"], batch_size=4, collate_fn=data_collator\n",
    ")"
   ]
  },
  {
   "cell_type": "code",
   "execution_count": 26,
   "metadata": {},
   "outputs": [
    {
     "name": "stderr",
     "output_type": "stream",
     "text": [
      "You're using a T5TokenizerFast tokenizer. Please note that with a fast tokenizer, using the `__call__` method is faster than using a method to encode the text followed by a call to the `pad` method to get a padded encoding.\n"
     ]
    }
   ],
   "source": [
    "for batch in train_dataloader:\n",
    "    break"
   ]
  },
  {
   "cell_type": "code",
   "execution_count": 33,
   "metadata": {},
   "outputs": [
    {
     "data": {
      "text/plain": [
       "{'input_ids': tensor([[   41,   254, 17235,  ...,     0,     0,     0],\n",
       "        [  389,  2641,    18,  ...,     0,     0,     0],\n",
       "        [  938,     3,     5,  ...,     0,     0,     0],\n",
       "        ...,\n",
       "        [   41,   254, 17235,  ...,     0,     0,     0],\n",
       "        [ 2051, 16599,    45,  ...,     0,     0,     0],\n",
       "        [  938,     3,     5,  ...,     0,     0,     0]]), 'attention_mask': tensor([[1, 1, 1,  ..., 0, 0, 0],\n",
       "        [1, 1, 1,  ..., 0, 0, 0],\n",
       "        [1, 1, 1,  ..., 0, 0, 0],\n",
       "        ...,\n",
       "        [1, 1, 1,  ..., 0, 0, 0],\n",
       "        [1, 1, 1,  ..., 0, 0, 0],\n",
       "        [1, 1, 1,  ..., 0, 0, 0]])}"
      ]
     },
     "execution_count": 33,
     "metadata": {},
     "output_type": "execute_result"
    }
   ],
   "source": [
    "batch"
   ]
  },
  {
   "cell_type": "code",
   "execution_count": 27,
   "metadata": {},
   "outputs": [],
   "source": [
    "for val_batch in eval_dataloader:\n",
    "    break"
   ]
  },
  {
   "cell_type": "code",
   "execution_count": 34,
   "metadata": {},
   "outputs": [
    {
     "data": {
      "text/plain": [
       "{'input_ids': torch.Size([8, 2098]), 'attention_mask': torch.Size([8, 2098])}"
      ]
     },
     "execution_count": 34,
     "metadata": {},
     "output_type": "execute_result"
    }
   ],
   "source": [
    "{k:v.shape for k,v in batch.items()}"
   ]
  },
  {
   "cell_type": "code",
   "execution_count": 51,
   "metadata": {},
   "outputs": [
    {
     "name": "stdout",
     "output_type": "stream",
     "text": [
      "71779\n"
     ]
    }
   ],
   "source": [
    "from transformers import AdamW\n",
    "from transformers import get_scheduler\n",
    "import torch\n",
    "optimizer = torch.optim.AdamW(t5.parameters(), lr=5e-5)\n",
    "\n",
    "num_epochs = 1\n",
    "num_training_steps = num_epochs * len(train_dataloader)\n",
    "lr_scheduler = get_scheduler(\n",
    "    \"linear\",\n",
    "    optimizer=optimizer,\n",
    "    num_warmup_steps=0,\n",
    "    num_training_steps=num_training_steps,\n",
    ")\n",
    "print(num_training_steps)\n"
   ]
  },
  {
   "cell_type": "code",
   "execution_count": 52,
   "metadata": {},
   "outputs": [
    {
     "data": {
      "text/plain": [
       "device(type='cuda')"
      ]
     },
     "execution_count": 52,
     "metadata": {},
     "output_type": "execute_result"
    }
   ],
   "source": [
    "device = torch.device(\"cuda\") if torch.cuda.is_available() else torch.device(\"cpu\")\n",
    "t5.to(device)\n",
    "device"
   ]
  },
  {
   "cell_type": "code",
   "execution_count": 53,
   "metadata": {},
   "outputs": [
    {
     "data": {
      "application/vnd.jupyter.widget-view+json": {
       "model_id": "2d0accfb60154cde9bd522c62d899f7d",
       "version_major": 2,
       "version_minor": 0
      },
      "text/plain": [
       "  0%|          | 0/71779 [00:00<?, ?it/s]"
      ]
     },
     "metadata": {},
     "output_type": "display_data"
    },
    {
     "name": "stderr",
     "output_type": "stream",
     "text": [
      "You're using a T5TokenizerFast tokenizer. Please note that with a fast tokenizer, using the `__call__` method is faster than using a method to encode the text followed by a call to the `pad` method to get a padded encoding.\n"
     ]
    }
   ],
   "source": [
    "from tqdm.auto import tqdm\n",
    "\n",
    "progress_bar = tqdm(range(num_training_steps))\n",
    "\n",
    "t5.train()\n",
    "for epoch in range(num_epochs):\n",
    "    for batch_x,batch_y in zip(train_dataloader,eval_dataloader):\n",
    "        # batch_x = {k: v.to(device) for k, v in batch_x.items()}\n",
    "        # batch_y = {k: v.to(device) for k, v in batch_y.items()}\n",
    "\n",
    "        outputs = t5(input_ids=batch_x.input_ids.to(device),labels=batch_y.input_ids.to(device))\n",
    "        loss = outputs.loss\n",
    "        loss.backward()\n",
    "\n",
    "        optimizer.step()\n",
    "        lr_scheduler.step()\n",
    "        optimizer.zero_grad()\n",
    "        progress_bar.update(1)"
   ]
  },
  {
   "cell_type": "code",
   "execution_count": null,
   "metadata": {},
   "outputs": [
    {
     "name": "stdout",
     "output_type": "stream",
     "text": [
      "tensor(10.7395, grad_fn=<NllLossBackward0>)\n"
     ]
    }
   ],
   "source": [
    "print(outputs.loss)"
   ]
  },
  {
   "cell_type": "code",
   "execution_count": null,
   "metadata": {},
   "outputs": [
    {
     "name": "stdout",
     "output_type": "stream",
     "text": [
      "torch.Size([32, 71, 32128])\n"
     ]
    }
   ],
   "source": [
    "print(outputs.logits.shape)"
   ]
  },
  {
   "cell_type": "code",
   "execution_count": 16,
   "metadata": {},
   "outputs": [],
   "source": [
    "text = \"\"\"\n",
    "In our Behind the Scenes series, CNN correspondents share their experiences in covering news and analyze the stories behind the events. Here, Soledad O'Brien takes users inside a jail where many of the inmates are mentally ill. An inmate housed on the \"forgotten floor,\" where many mentally ill inmates are housed in Miami before trial. MIAMI, Florida (CNN) -- The ninth floor of the Miami-Dade pretrial detention facility is dubbed the \"forgotten floor.\" Here, inmates with the most severe mental illnesses are incarcerated until they're ready to appear in court. Most often, they face drug charges or charges of assaulting an officer --charges that Judge Steven Leifman says are usually \"avoidable felonies.\" He says the arrests often result from confrontations with police. Mentally ill people often won't do what they're told when police arrive on the scene -- confrontation seems to exacerbate their illness and they become more paranoid, delusional, and less likely to follow directions, according to Leifman. So, they end up on the ninth floor severely mentally disturbed, but not getting any real help because they're in jail. We toured the jail with Leifman. He is well known in Miami as an advocate for justice and the mentally ill. Even though we were not exactly welcomed with open arms by the guards, we were given permission to shoot videotape and tour the floor. Go inside the 'forgotten floor' » . At first, it's hard to determine where the people are. The prisoners are wearing sleeveless robes. Imagine cutting holes for arms and feet in a heavy wool sleeping bag -- that's kind of what they look like. They're designed to keep the mentally ill patients from injuring themselves. That's also why they have no shoes, laces or mattresses. Leifman says about one-third of all people in Miami-Dade county jails are mentally ill. So, he says, the sheer volume is overwhelming the system, and the result is what we see on the ninth floor. Of course, it is a jail, so it's not supposed to be warm and comforting, but the lights glare, the cells are tiny and it's loud. We see two, sometimes three men -- sometimes in the robes, sometimes naked, lying or sitting in their cells. \"I am the son of the president. You need to get me out of here!\" one man shouts at me. He is absolutely serious, convinced that help is on the way -- if only he could reach the White House. Leifman tells me that these prisoner-patients will often circulate through the system, occasionally stabilizing in a mental hospital, only to return to jail to face their charges. It's brutally unjust, in his mind, and he has become a strong advocate for changing things in Miami. Over a meal later, we talk about how things got this way for mental patients. Leifman says 200 years ago people were considered \"lunatics\" and they were locked up in jails even if they had no charges against them. They were just considered unfit to be in society. Over the years, he says, there was some public outcry, and the mentally ill were moved out of jails and into hospitals. But Leifman says many of these mental hospitals were so horrible they were shut down. Where did the patients go? Nowhere. The streets. They became, in many cases, the homeless, he says. They never got treatment. Leifman says in 1955 there were more than half a million people in state mental hospitals, and today that number has been reduced 90 percent, and 40,000 to 50,000 people are in mental hospitals. The judge says he's working to change this. Starting in 2008, many inmates who would otherwise have been brought to the \"forgotten floor\" will instead be sent to a new mental health facility -- the first step on a journey toward long-term treatment, not just punishment. Leifman says it's not the complete answer, but it's a start. Leifman says the best part is that it's a win-win solution. The patients win, the families are relieved, and the state saves money by simply not cycling these prisoners through again and again. And, for Leifman, justice is served. E-mail to a friend .\"\"\""
   ]
  },
  {
   "cell_type": "code",
   "execution_count": 23,
   "metadata": {},
   "outputs": [
    {
     "name": "stdout",
     "output_type": "stream",
     "text": [
      "judge says one-third of all people in Miami-dade jails are mentally ill. mentally ill inmates housed on \"forgotten floor\" until ready to appear in court. judge says many mentally ill inmates will be sent to a new mental health facility. \"it's not the complete answer, but it's a start,\" judge says.\n"
     ]
    }
   ],
   "source": [
    "input_ids = tokenizer(\n",
    "    f\"summarize: {text}\", return_tensors=\"pt\"\n",
    ").input_ids  # Batch size 1\n",
    "outputs = t5.generate(input_ids,max_new_tokens=500,num_beams=5,top_p=0.8,do_sample=True)\n",
    "print(tokenizer.decode(outputs[0], skip_special_tokens=True))"
   ]
  },
  {
   "cell_type": "code",
   "execution_count": 12,
   "metadata": {},
   "outputs": [
    {
     "data": {
      "text/plain": [
       "torch.Size([1, 629])"
      ]
     },
     "execution_count": 12,
     "metadata": {},
     "output_type": "execute_result"
    }
   ],
   "source": [
    "input_ids.shape"
   ]
  },
  {
   "cell_type": "code",
   "execution_count": null,
   "metadata": {},
   "outputs": [],
   "source": []
  }
 ],
 "metadata": {
  "kernelspec": {
   "display_name": "Python 3",
   "language": "python",
   "name": "python3"
  },
  "language_info": {
   "codemirror_mode": {
    "name": "ipython",
    "version": 3
   },
   "file_extension": ".py",
   "mimetype": "text/x-python",
   "name": "python",
   "nbconvert_exporter": "python",
   "pygments_lexer": "ipython3",
   "version": "3.10.12"
  }
 },
 "nbformat": 4,
 "nbformat_minor": 2
}
